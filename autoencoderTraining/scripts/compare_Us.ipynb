{
 "cells": [
  {
   "cell_type": "code",
   "execution_count": 1,
   "metadata": {},
   "outputs": [],
   "source": [
    "import numpy as np\n",
    "import torch\n"
   ]
  },
  {
   "cell_type": "code",
   "execution_count": 2,
   "metadata": {},
   "outputs": [],
   "source": [
    "new_U = torch.load(\"/workspace/thomas/latentDiffusion/autoencoderTraining/scripts/U_new.pt\", map_location=torch.device('cpu'))\n",
    "old_U = torch.load(\"/workspace/thomas/latentDiffusion/autoencoderTraining/scripts/U_old.pt\", map_location=torch.device('cpu'))\n",
    "new_U_np = new_U.cpu().numpy() if new_U.is_cuda else new_U.numpy()\n",
    "old_U_np = old_U.cpu().numpy() if old_U.is_cuda else old_U.numpy()\n"
   ]
  },
  {
   "cell_type": "code",
   "execution_count": 3,
   "metadata": {},
   "outputs": [
    {
     "name": "stdout",
     "output_type": "stream",
     "text": [
      "<class 'torch.Tensor'>\n"
     ]
    }
   ],
   "source": [
    "print(type(new_U))"
   ]
  },
  {
   "cell_type": "code",
   "execution_count": 4,
   "metadata": {},
   "outputs": [
    {
     "data": {
      "text/plain": [
       "False"
      ]
     },
     "execution_count": 4,
     "metadata": {},
     "output_type": "execute_result"
    }
   ],
   "source": [
    "np.allclose(new_U, old_U)"
   ]
  },
  {
   "cell_type": "code",
   "execution_count": 5,
   "metadata": {},
   "outputs": [
    {
     "name": "stdout",
     "output_type": "stream",
     "text": [
      "tensor([[-0.0148, -0.0063,  0.0016,  ..., -0.0034, -0.0044, -0.0113],\n",
      "        [-0.0188, -0.0037,  0.0020,  ..., -0.0042, -0.0026, -0.0165],\n",
      "        [-0.0194, -0.0039,  0.0017,  ...,  0.0117,  0.0139, -0.0123],\n",
      "        ...,\n",
      "        [ 0.0193,  0.0029, -0.0035,  ..., -0.0128, -0.0040, -0.0109],\n",
      "        [ 0.0168,  0.0024, -0.0038,  ..., -0.0034, -0.0013, -0.0163],\n",
      "        [ 0.0258,  0.0036, -0.0009,  ..., -0.0049, -0.0050, -0.0126]])\n"
     ]
    }
   ],
   "source": [
    "print(new_U - old_U)\n"
   ]
  },
  {
   "cell_type": "code",
   "execution_count": null,
   "metadata": {},
   "outputs": [],
   "source": []
  }
 ],
 "metadata": {
  "kernelspec": {
   "display_name": "ml_env",
   "language": "python",
   "name": "python3"
  },
  "language_info": {
   "codemirror_mode": {
    "name": "ipython",
    "version": 3
   },
   "file_extension": ".py",
   "mimetype": "text/x-python",
   "name": "python",
   "nbconvert_exporter": "python",
   "pygments_lexer": "ipython3",
   "version": "3.8.19"
  }
 },
 "nbformat": 4,
 "nbformat_minor": 2
}
